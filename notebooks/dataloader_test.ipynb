{
 "cells": [
  {
   "cell_type": "code",
   "execution_count": 1,
   "metadata": {
    "collapsed": true,
    "pycharm": {
     "name": "#%%\n"
    }
   },
   "outputs": [],
   "source": [
    "\n",
    "import os\n",
    "import sys\n",
    "from torch.utils.data import DataLoader\n",
    "from  lfp.config import GlobalConfig\n",
    "from lfp.data import LFP_Data, pad_collate\n",
    "import numpy as np\n",
    "from matplotlib import pyplot as plt"
   ]
  },
  {
   "cell_type": "code",
   "execution_count": 2,
   "outputs": [],
   "source": [],
   "metadata": {
    "collapsed": false,
    "pycharm": {
     "name": "#%%\n"
    }
   }
  },
  {
   "cell_type": "code",
   "execution_count": 3,
   "outputs": [],
   "source": [],
   "metadata": {
    "collapsed": false,
    "pycharm": {
     "name": "#%%\n"
    }
   }
  },
  {
   "cell_type": "code",
   "execution_count": 3,
   "outputs": [
    {
     "name": "stdout",
     "output_type": "stream",
     "text": [
      "100%|██████████| 2/2 [00:02<00:00,  1.03s/it]\n",
      "torch.Size([8, 37, 200, 200, 3])\n",
      "torch.Size([8, 39, 200, 200, 3])\n",
      "torch.Size([8, 37, 200, 200, 3])\n",
      "torch.Size([8, 39, 200, 200, 3])\n",
      "torch.Size([8, 39, 200, 200, 3])\n",
      "torch.Size([8, 37, 200, 200, 3])\n",
      "torch.Size([8, 38, 200, 200, 3])\n",
      "torch.Size([8, 38, 200, 200, 3])\n",
      "torch.Size([8, 38, 200, 200, 3])\n",
      "torch.Size([8, 39, 200, 200, 3])\n",
      "torch.Size([8, 39, 200, 200, 3])\n",
      "torch.Size([8, 39, 200, 200, 3])\n",
      "torch.Size([8, 35, 200, 200, 3])\n",
      "torch.Size([8, 39, 200, 200, 3])\n",
      "torch.Size([8, 36, 200, 200, 3])\n",
      "torch.Size([8, 38, 200, 200, 3])\n",
      "torch.Size([8, 38, 200, 200, 3])\n",
      "torch.Size([8, 36, 200, 200, 3])\n",
      "torch.Size([8, 37, 200, 200, 3])\n",
      "torch.Size([8, 36, 200, 200, 3])\n",
      "torch.Size([8, 39, 200, 200, 3])\n",
      "torch.Size([8, 37, 200, 200, 3])\n",
      "torch.Size([8, 36, 200, 200, 3])\n",
      "torch.Size([8, 35, 200, 200, 3])\n",
      "torch.Size([8, 39, 200, 200, 3])\n",
      "torch.Size([8, 39, 200, 200, 3])\n",
      "torch.Size([8, 34, 200, 200, 3])\n",
      "torch.Size([8, 35, 200, 200, 3])\n",
      "torch.Size([8, 39, 200, 200, 3])\n",
      "torch.Size([8, 37, 200, 200, 3])\n",
      "torch.Size([8, 37, 200, 200, 3])\n",
      "torch.Size([8, 39, 200, 200, 3])\n",
      "torch.Size([8, 39, 200, 200, 3])\n",
      "torch.Size([8, 37, 200, 200, 3])\n",
      "torch.Size([8, 37, 200, 200, 3])\n",
      "torch.Size([8, 37, 200, 200, 3])\n",
      "torch.Size([8, 38, 200, 200, 3])\n",
      "torch.Size([8, 33, 200, 200, 3])\n",
      "torch.Size([8, 38, 200, 200, 3])\n",
      "torch.Size([8, 37, 200, 200, 3])\n",
      "torch.Size([8, 36, 200, 200, 3])\n",
      "torch.Size([8, 37, 200, 200, 3])\n",
      "torch.Size([8, 38, 200, 200, 3])\n",
      "torch.Size([8, 36, 200, 200, 3])\n",
      "torch.Size([8, 39, 200, 200, 3])\n",
      "torch.Size([8, 38, 200, 200, 3])\n",
      "torch.Size([8, 38, 200, 200, 3])\n",
      "torch.Size([8, 39, 200, 200, 3])\n",
      "torch.Size([8, 38, 200, 200, 3])\n",
      "torch.Size([8, 39, 200, 200, 3])\n",
      "torch.Size([8, 34, 200, 200, 3])\n",
      "torch.Size([8, 39, 200, 200, 3])\n",
      "torch.Size([8, 37, 200, 200, 3])\n",
      "torch.Size([8, 38, 200, 200, 3])\n",
      "torch.Size([8, 38, 200, 200, 3])\n",
      "torch.Size([8, 38, 200, 200, 3])\n",
      "torch.Size([8, 37, 200, 200, 3])\n",
      "torch.Size([8, 39, 200, 200, 3])\n",
      "torch.Size([8, 35, 200, 200, 3])\n",
      "torch.Size([8, 39, 200, 200, 3])\n",
      "torch.Size([8, 36, 200, 200, 3])\n",
      "torch.Size([8, 39, 200, 200, 3])\n",
      "torch.Size([8, 38, 200, 200, 3])\n",
      "torch.Size([8, 37, 200, 200, 3])\n",
      "torch.Size([8, 36, 200, 200, 3])\n",
      "torch.Size([8, 39, 200, 200, 3])\n",
      "torch.Size([8, 37, 200, 200, 3])\n",
      "torch.Size([8, 37, 200, 200, 3])\n",
      "torch.Size([8, 36, 200, 200, 3])\n",
      "torch.Size([8, 38, 200, 200, 3])\n",
      "torch.Size([8, 38, 200, 200, 3])\n",
      "torch.Size([8, 32, 200, 200, 3])\n",
      "torch.Size([8, 37, 200, 200, 3])\n",
      "torch.Size([8, 39, 200, 200, 3])\n",
      "torch.Size([8, 38, 200, 200, 3])\n",
      "torch.Size([8, 36, 200, 200, 3])\n",
      "torch.Size([8, 37, 200, 200, 3])\n",
      "torch.Size([8, 39, 200, 200, 3])\n",
      "torch.Size([8, 39, 200, 200, 3])\n",
      "torch.Size([8, 39, 200, 200, 3])\n",
      "torch.Size([8, 38, 200, 200, 3])\n",
      "torch.Size([8, 36, 200, 200, 3])\n",
      "torch.Size([8, 39, 200, 200, 3])\n",
      "torch.Size([8, 39, 200, 200, 3])\n",
      "torch.Size([8, 37, 200, 200, 3])\n",
      "torch.Size([8, 39, 200, 200, 3])\n",
      "torch.Size([8, 39, 200, 200, 3])\n",
      "torch.Size([8, 38, 200, 200, 3])\n",
      "torch.Size([8, 37, 200, 200, 3])\n",
      "torch.Size([8, 38, 200, 200, 3])\n",
      "torch.Size([8, 39, 200, 200, 3])\n",
      "torch.Size([8, 35, 200, 200, 3])\n",
      "torch.Size([8, 39, 200, 200, 3])\n",
      "torch.Size([8, 39, 200, 200, 3])\n",
      "torch.Size([8, 35, 200, 200, 3])\n",
      "torch.Size([8, 39, 200, 200, 3])\n"
     ]
    },
    {
     "ename": "KeyboardInterrupt",
     "evalue": "",
     "output_type": "error",
     "traceback": [
      "\u001B[0;31m---------------------------------------------------------------------------\u001B[0m",
      "\u001B[0;31mKeyboardInterrupt\u001B[0m                         Traceback (most recent call last)",
      "Cell \u001B[0;32mIn [3], line 4\u001B[0m\n\u001B[1;32m      2\u001B[0m train_set \u001B[38;5;241m=\u001B[39m LFP_Data(root\u001B[38;5;241m=\u001B[39mconfig\u001B[38;5;241m.\u001B[39mtrain_data, config\u001B[38;5;241m=\u001B[39mconfig)\n\u001B[1;32m      3\u001B[0m dataloader_train \u001B[38;5;241m=\u001B[39m DataLoader(train_set, batch_size\u001B[38;5;241m=\u001B[39m\u001B[38;5;241m8\u001B[39m, shuffle\u001B[38;5;241m=\u001B[39m\u001B[38;5;28;01mTrue\u001B[39;00m, num_workers\u001B[38;5;241m=\u001B[39m\u001B[38;5;241m8\u001B[39m, pin_memory\u001B[38;5;241m=\u001B[39m\u001B[38;5;28;01mTrue\u001B[39;00m, collate_fn\u001B[38;5;241m=\u001B[39mpad_collate)\n\u001B[0;32m----> 4\u001B[0m \u001B[38;5;28;01mfor\u001B[39;00m data \u001B[38;5;129;01min\u001B[39;00m dataloader_train:\n\u001B[1;32m      5\u001B[0m     imgs \u001B[38;5;241m=\u001B[39m data[\u001B[38;5;124m'\u001B[39m\u001B[38;5;124mimgs\u001B[39m\u001B[38;5;124m'\u001B[39m]\n\u001B[1;32m      6\u001B[0m     \u001B[38;5;28mprint\u001B[39m(imgs\u001B[38;5;241m.\u001B[39mshape)\n",
      "File \u001B[0;32m~/opt/anaconda3/envs/learn_from_play_pytorch/lib/python3.8/site-packages/torch/utils/data/dataloader.py:521\u001B[0m, in \u001B[0;36m_BaseDataLoaderIter.__next__\u001B[0;34m(self)\u001B[0m\n\u001B[1;32m    519\u001B[0m \u001B[38;5;28;01mif\u001B[39;00m \u001B[38;5;28mself\u001B[39m\u001B[38;5;241m.\u001B[39m_sampler_iter \u001B[38;5;129;01mis\u001B[39;00m \u001B[38;5;28;01mNone\u001B[39;00m:\n\u001B[1;32m    520\u001B[0m     \u001B[38;5;28mself\u001B[39m\u001B[38;5;241m.\u001B[39m_reset()\n\u001B[0;32m--> 521\u001B[0m data \u001B[38;5;241m=\u001B[39m \u001B[38;5;28;43mself\u001B[39;49m\u001B[38;5;241;43m.\u001B[39;49m\u001B[43m_next_data\u001B[49m\u001B[43m(\u001B[49m\u001B[43m)\u001B[49m\n\u001B[1;32m    522\u001B[0m \u001B[38;5;28mself\u001B[39m\u001B[38;5;241m.\u001B[39m_num_yielded \u001B[38;5;241m+\u001B[39m\u001B[38;5;241m=\u001B[39m \u001B[38;5;241m1\u001B[39m\n\u001B[1;32m    523\u001B[0m \u001B[38;5;28;01mif\u001B[39;00m \u001B[38;5;28mself\u001B[39m\u001B[38;5;241m.\u001B[39m_dataset_kind \u001B[38;5;241m==\u001B[39m _DatasetKind\u001B[38;5;241m.\u001B[39mIterable \u001B[38;5;129;01mand\u001B[39;00m \\\n\u001B[1;32m    524\u001B[0m         \u001B[38;5;28mself\u001B[39m\u001B[38;5;241m.\u001B[39m_IterableDataset_len_called \u001B[38;5;129;01mis\u001B[39;00m \u001B[38;5;129;01mnot\u001B[39;00m \u001B[38;5;28;01mNone\u001B[39;00m \u001B[38;5;129;01mand\u001B[39;00m \\\n\u001B[1;32m    525\u001B[0m         \u001B[38;5;28mself\u001B[39m\u001B[38;5;241m.\u001B[39m_num_yielded \u001B[38;5;241m>\u001B[39m \u001B[38;5;28mself\u001B[39m\u001B[38;5;241m.\u001B[39m_IterableDataset_len_called:\n",
      "File \u001B[0;32m~/opt/anaconda3/envs/learn_from_play_pytorch/lib/python3.8/site-packages/torch/utils/data/dataloader.py:1186\u001B[0m, in \u001B[0;36m_MultiProcessingDataLoaderIter._next_data\u001B[0;34m(self)\u001B[0m\n\u001B[1;32m   1183\u001B[0m     \u001B[38;5;28;01mreturn\u001B[39;00m \u001B[38;5;28mself\u001B[39m\u001B[38;5;241m.\u001B[39m_process_data(data)\n\u001B[1;32m   1185\u001B[0m \u001B[38;5;28;01massert\u001B[39;00m \u001B[38;5;129;01mnot\u001B[39;00m \u001B[38;5;28mself\u001B[39m\u001B[38;5;241m.\u001B[39m_shutdown \u001B[38;5;129;01mand\u001B[39;00m \u001B[38;5;28mself\u001B[39m\u001B[38;5;241m.\u001B[39m_tasks_outstanding \u001B[38;5;241m>\u001B[39m \u001B[38;5;241m0\u001B[39m\n\u001B[0;32m-> 1186\u001B[0m idx, data \u001B[38;5;241m=\u001B[39m \u001B[38;5;28;43mself\u001B[39;49m\u001B[38;5;241;43m.\u001B[39;49m\u001B[43m_get_data\u001B[49m\u001B[43m(\u001B[49m\u001B[43m)\u001B[49m\n\u001B[1;32m   1187\u001B[0m \u001B[38;5;28mself\u001B[39m\u001B[38;5;241m.\u001B[39m_tasks_outstanding \u001B[38;5;241m-\u001B[39m\u001B[38;5;241m=\u001B[39m \u001B[38;5;241m1\u001B[39m\n\u001B[1;32m   1188\u001B[0m \u001B[38;5;28;01mif\u001B[39;00m \u001B[38;5;28mself\u001B[39m\u001B[38;5;241m.\u001B[39m_dataset_kind \u001B[38;5;241m==\u001B[39m _DatasetKind\u001B[38;5;241m.\u001B[39mIterable:\n\u001B[1;32m   1189\u001B[0m     \u001B[38;5;66;03m# Check for _IterableDatasetStopIteration\u001B[39;00m\n",
      "File \u001B[0;32m~/opt/anaconda3/envs/learn_from_play_pytorch/lib/python3.8/site-packages/torch/utils/data/dataloader.py:1152\u001B[0m, in \u001B[0;36m_MultiProcessingDataLoaderIter._get_data\u001B[0;34m(self)\u001B[0m\n\u001B[1;32m   1148\u001B[0m     \u001B[38;5;66;03m# In this case, `self._data_queue` is a `queue.Queue`,. But we don't\u001B[39;00m\n\u001B[1;32m   1149\u001B[0m     \u001B[38;5;66;03m# need to call `.task_done()` because we don't use `.join()`.\u001B[39;00m\n\u001B[1;32m   1150\u001B[0m \u001B[38;5;28;01melse\u001B[39;00m:\n\u001B[1;32m   1151\u001B[0m     \u001B[38;5;28;01mwhile\u001B[39;00m \u001B[38;5;28;01mTrue\u001B[39;00m:\n\u001B[0;32m-> 1152\u001B[0m         success, data \u001B[38;5;241m=\u001B[39m \u001B[38;5;28;43mself\u001B[39;49m\u001B[38;5;241;43m.\u001B[39;49m\u001B[43m_try_get_data\u001B[49m\u001B[43m(\u001B[49m\u001B[43m)\u001B[49m\n\u001B[1;32m   1153\u001B[0m         \u001B[38;5;28;01mif\u001B[39;00m success:\n\u001B[1;32m   1154\u001B[0m             \u001B[38;5;28;01mreturn\u001B[39;00m data\n",
      "File \u001B[0;32m~/opt/anaconda3/envs/learn_from_play_pytorch/lib/python3.8/site-packages/torch/utils/data/dataloader.py:990\u001B[0m, in \u001B[0;36m_MultiProcessingDataLoaderIter._try_get_data\u001B[0;34m(self, timeout)\u001B[0m\n\u001B[1;32m    977\u001B[0m \u001B[38;5;28;01mdef\u001B[39;00m \u001B[38;5;21m_try_get_data\u001B[39m(\u001B[38;5;28mself\u001B[39m, timeout\u001B[38;5;241m=\u001B[39m_utils\u001B[38;5;241m.\u001B[39mMP_STATUS_CHECK_INTERVAL):\n\u001B[1;32m    978\u001B[0m     \u001B[38;5;66;03m# Tries to fetch data from `self._data_queue` once for a given timeout.\u001B[39;00m\n\u001B[1;32m    979\u001B[0m     \u001B[38;5;66;03m# This can also be used as inner loop of fetching without timeout, with\u001B[39;00m\n\u001B[0;32m   (...)\u001B[0m\n\u001B[1;32m    987\u001B[0m     \u001B[38;5;66;03m# Returns a 2-tuple:\u001B[39;00m\n\u001B[1;32m    988\u001B[0m     \u001B[38;5;66;03m#   (bool: whether successfully get data, any: data if successful else None)\u001B[39;00m\n\u001B[1;32m    989\u001B[0m     \u001B[38;5;28;01mtry\u001B[39;00m:\n\u001B[0;32m--> 990\u001B[0m         data \u001B[38;5;241m=\u001B[39m \u001B[38;5;28;43mself\u001B[39;49m\u001B[38;5;241;43m.\u001B[39;49m\u001B[43m_data_queue\u001B[49m\u001B[38;5;241;43m.\u001B[39;49m\u001B[43mget\u001B[49m\u001B[43m(\u001B[49m\u001B[43mtimeout\u001B[49m\u001B[38;5;241;43m=\u001B[39;49m\u001B[43mtimeout\u001B[49m\u001B[43m)\u001B[49m\n\u001B[1;32m    991\u001B[0m         \u001B[38;5;28;01mreturn\u001B[39;00m (\u001B[38;5;28;01mTrue\u001B[39;00m, data)\n\u001B[1;32m    992\u001B[0m     \u001B[38;5;28;01mexcept\u001B[39;00m \u001B[38;5;167;01mException\u001B[39;00m \u001B[38;5;28;01mas\u001B[39;00m e:\n\u001B[1;32m    993\u001B[0m         \u001B[38;5;66;03m# At timeout and error, we manually check whether any worker has\u001B[39;00m\n\u001B[1;32m    994\u001B[0m         \u001B[38;5;66;03m# failed. Note that this is the only mechanism for Windows to detect\u001B[39;00m\n\u001B[1;32m    995\u001B[0m         \u001B[38;5;66;03m# worker failures.\u001B[39;00m\n",
      "File \u001B[0;32m~/opt/anaconda3/envs/learn_from_play_pytorch/lib/python3.8/multiprocessing/queues.py:107\u001B[0m, in \u001B[0;36mQueue.get\u001B[0;34m(self, block, timeout)\u001B[0m\n\u001B[1;32m    105\u001B[0m \u001B[38;5;28;01mif\u001B[39;00m block:\n\u001B[1;32m    106\u001B[0m     timeout \u001B[38;5;241m=\u001B[39m deadline \u001B[38;5;241m-\u001B[39m time\u001B[38;5;241m.\u001B[39mmonotonic()\n\u001B[0;32m--> 107\u001B[0m     \u001B[38;5;28;01mif\u001B[39;00m \u001B[38;5;129;01mnot\u001B[39;00m \u001B[38;5;28;43mself\u001B[39;49m\u001B[38;5;241;43m.\u001B[39;49m\u001B[43m_poll\u001B[49m\u001B[43m(\u001B[49m\u001B[43mtimeout\u001B[49m\u001B[43m)\u001B[49m:\n\u001B[1;32m    108\u001B[0m         \u001B[38;5;28;01mraise\u001B[39;00m Empty\n\u001B[1;32m    109\u001B[0m \u001B[38;5;28;01melif\u001B[39;00m \u001B[38;5;129;01mnot\u001B[39;00m \u001B[38;5;28mself\u001B[39m\u001B[38;5;241m.\u001B[39m_poll():\n",
      "File \u001B[0;32m~/opt/anaconda3/envs/learn_from_play_pytorch/lib/python3.8/multiprocessing/connection.py:257\u001B[0m, in \u001B[0;36m_ConnectionBase.poll\u001B[0;34m(self, timeout)\u001B[0m\n\u001B[1;32m    255\u001B[0m \u001B[38;5;28mself\u001B[39m\u001B[38;5;241m.\u001B[39m_check_closed()\n\u001B[1;32m    256\u001B[0m \u001B[38;5;28mself\u001B[39m\u001B[38;5;241m.\u001B[39m_check_readable()\n\u001B[0;32m--> 257\u001B[0m \u001B[38;5;28;01mreturn\u001B[39;00m \u001B[38;5;28;43mself\u001B[39;49m\u001B[38;5;241;43m.\u001B[39;49m\u001B[43m_poll\u001B[49m\u001B[43m(\u001B[49m\u001B[43mtimeout\u001B[49m\u001B[43m)\u001B[49m\n",
      "File \u001B[0;32m~/opt/anaconda3/envs/learn_from_play_pytorch/lib/python3.8/multiprocessing/connection.py:424\u001B[0m, in \u001B[0;36mConnection._poll\u001B[0;34m(self, timeout)\u001B[0m\n\u001B[1;32m    423\u001B[0m \u001B[38;5;28;01mdef\u001B[39;00m \u001B[38;5;21m_poll\u001B[39m(\u001B[38;5;28mself\u001B[39m, timeout):\n\u001B[0;32m--> 424\u001B[0m     r \u001B[38;5;241m=\u001B[39m \u001B[43mwait\u001B[49m\u001B[43m(\u001B[49m\u001B[43m[\u001B[49m\u001B[38;5;28;43mself\u001B[39;49m\u001B[43m]\u001B[49m\u001B[43m,\u001B[49m\u001B[43m \u001B[49m\u001B[43mtimeout\u001B[49m\u001B[43m)\u001B[49m\n\u001B[1;32m    425\u001B[0m     \u001B[38;5;28;01mreturn\u001B[39;00m \u001B[38;5;28mbool\u001B[39m(r)\n",
      "File \u001B[0;32m~/opt/anaconda3/envs/learn_from_play_pytorch/lib/python3.8/multiprocessing/connection.py:931\u001B[0m, in \u001B[0;36mwait\u001B[0;34m(object_list, timeout)\u001B[0m\n\u001B[1;32m    928\u001B[0m     deadline \u001B[38;5;241m=\u001B[39m time\u001B[38;5;241m.\u001B[39mmonotonic() \u001B[38;5;241m+\u001B[39m timeout\n\u001B[1;32m    930\u001B[0m \u001B[38;5;28;01mwhile\u001B[39;00m \u001B[38;5;28;01mTrue\u001B[39;00m:\n\u001B[0;32m--> 931\u001B[0m     ready \u001B[38;5;241m=\u001B[39m \u001B[43mselector\u001B[49m\u001B[38;5;241;43m.\u001B[39;49m\u001B[43mselect\u001B[49m\u001B[43m(\u001B[49m\u001B[43mtimeout\u001B[49m\u001B[43m)\u001B[49m\n\u001B[1;32m    932\u001B[0m     \u001B[38;5;28;01mif\u001B[39;00m ready:\n\u001B[1;32m    933\u001B[0m         \u001B[38;5;28;01mreturn\u001B[39;00m [key\u001B[38;5;241m.\u001B[39mfileobj \u001B[38;5;28;01mfor\u001B[39;00m (key, events) \u001B[38;5;129;01min\u001B[39;00m ready]\n",
      "File \u001B[0;32m~/opt/anaconda3/envs/learn_from_play_pytorch/lib/python3.8/selectors.py:415\u001B[0m, in \u001B[0;36m_PollLikeSelector.select\u001B[0;34m(self, timeout)\u001B[0m\n\u001B[1;32m    413\u001B[0m ready \u001B[38;5;241m=\u001B[39m []\n\u001B[1;32m    414\u001B[0m \u001B[38;5;28;01mtry\u001B[39;00m:\n\u001B[0;32m--> 415\u001B[0m     fd_event_list \u001B[38;5;241m=\u001B[39m \u001B[38;5;28;43mself\u001B[39;49m\u001B[38;5;241;43m.\u001B[39;49m\u001B[43m_selector\u001B[49m\u001B[38;5;241;43m.\u001B[39;49m\u001B[43mpoll\u001B[49m\u001B[43m(\u001B[49m\u001B[43mtimeout\u001B[49m\u001B[43m)\u001B[49m\n\u001B[1;32m    416\u001B[0m \u001B[38;5;28;01mexcept\u001B[39;00m \u001B[38;5;167;01mInterruptedError\u001B[39;00m:\n\u001B[1;32m    417\u001B[0m     \u001B[38;5;28;01mreturn\u001B[39;00m ready\n",
      "\u001B[0;31mKeyboardInterrupt\u001B[0m: "
     ]
    }
   ],
   "source": [
    "\n",
    "config = GlobalConfig()\n",
    "train_set = LFP_Data(root=config.train_data, config=config)\n",
    "dataloader_train = DataLoader(train_set, batch_size=8, shuffle=True, num_workers=8, pin_memory=True, collate_fn=pad_collate)\n",
    "for data in dataloader_train:\n",
    "    imgs = data['imgs']\n",
    "    print(imgs.shape)"
   ],
   "metadata": {
    "collapsed": false,
    "pycharm": {
     "name": "#%%\n"
    }
   }
  },
  {
   "cell_type": "code",
   "execution_count": null,
   "outputs": [],
   "source": [],
   "metadata": {
    "collapsed": false,
    "pycharm": {
     "name": "#%%\n"
    }
   }
  }
 ],
 "metadata": {
  "kernelspec": {
   "name": "lfp_pytorch",
   "language": "python",
   "display_name": "lfp_pytorch"
  },
  "language_info": {
   "codemirror_mode": {
    "name": "ipython",
    "version": 2
   },
   "file_extension": ".py",
   "mimetype": "text/x-python",
   "name": "python",
   "nbconvert_exporter": "python",
   "pygments_lexer": "ipython2",
   "version": "2.7.6"
  }
 },
 "nbformat": 4,
 "nbformat_minor": 0
}